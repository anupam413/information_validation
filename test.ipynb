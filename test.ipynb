{
 "cells": [
  {
   "cell_type": "code",
   "execution_count": 1,
   "metadata": {},
   "outputs": [],
   "source": [
    "import json"
   ]
  },
  {
   "cell_type": "code",
   "execution_count": 2,
   "metadata": {},
   "outputs": [],
   "source": [
    "with open('data.json', 'r') as f:\n",
    "    user_data = json.load(f)"
   ]
  },
  {
   "cell_type": "code",
   "execution_count": 3,
   "metadata": {},
   "outputs": [
    {
     "data": {
      "text/plain": [
       "{'outgoing_trait': [{'outgoing': True, 'verified': False}],\n",
       " 'occupation': [{'unemployed': True, 'verified': False}],\n",
       " 'frequent_visits': [{'nature': True, 'verified': False}],\n",
       " 'regular_activity': [{'gym': True, 'verified': False}],\n",
       " 'likes': [{'bikes': True, 'verified': False},\n",
       "  {'cars': True, 'verified': False}],\n",
       " 'app_usages': [{'music': True, 'verified': False}]}"
      ]
     },
     "execution_count": 3,
     "metadata": {},
     "output_type": "execute_result"
    }
   ],
   "source": [
    "user_data"
   ]
  },
  {
   "cell_type": "code",
   "execution_count": 11,
   "metadata": {},
   "outputs": [
    {
     "name": "stderr",
     "output_type": "stream",
     "text": [
      "c:\\Users\\anupa\\anaconda3\\envs\\myenv\\lib\\site-packages\\fuzzywuzzy\\fuzz.py:11: UserWarning: Using slow pure-python SequenceMatcher. Install python-Levenshtein to remove this warning\n",
      "  warnings.warn('Using slow pure-python SequenceMatcher. Install python-Levenshtein to remove this warning')\n"
     ]
    }
   ],
   "source": [
    "import difflib\n",
    "from fuzzywuzzy import process\n"
   ]
  },
  {
   "cell_type": "code",
   "execution_count": 18,
   "metadata": {},
   "outputs": [],
   "source": [
    "def extract_similar_key(data, input_key):\n",
    "    # Get all keys from the dictionary\n",
    "    keys = data.keys()\n",
    "    # Find the closest match to the input_key using fuzzy matching\n",
    "    closest_match, score = process.extractOne(input_key, keys)\n",
    "    # Define a threshold score for accepting matches\n",
    "    threshold = 30\n",
    "    # If the match score is above the threshold, return the corresponding key and value\n",
    "    if score >= threshold:\n",
    "        return {closest_match: data[closest_match]}\n",
    "    else:\n",
    "        return None"
   ]
  },
  {
   "cell_type": "code",
   "execution_count": 23,
   "metadata": {},
   "outputs": [
    {
     "name": "stdout",
     "output_type": "stream",
     "text": [
      "{'likes': [{'bikes': True, 'verified': False}, {'cars': True, 'verified': False}]}\n"
     ]
    }
   ],
   "source": [
    "input_key = 'dailyroutine'  # Example of a similar word\n",
    "result = extract_similar_key(user_data, input_key)\n",
    "\n",
    "print(result)"
   ]
  },
  {
   "cell_type": "code",
   "execution_count": 25,
   "metadata": {},
   "outputs": [
    {
     "data": {
      "text/plain": [
       "dict_items([('likes', [{'bikes': True, 'verified': False}, {'cars': True, 'verified': False}])])"
      ]
     },
     "execution_count": 25,
     "metadata": {},
     "output_type": "execute_result"
    }
   ],
   "source": [
    "result.items()"
   ]
  },
  {
   "cell_type": "code",
   "execution_count": 31,
   "metadata": {},
   "outputs": [
    {
     "name": "stdout",
     "output_type": "stream",
     "text": [
      "likes [{'bikes': True, 'verified': False}, {'cars': True, 'verified': False}]\n",
      "a1 bikes\n",
      "a2 True\n",
      "a1 verified\n",
      "a2 False\n",
      "ff\n"
     ]
    }
   ],
   "source": [
    "for key, value in result.items():\n",
    "    print(key,value)\n",
    "    for subkey, subvalue in value[0].items():\n",
    "        print(\"a1\",subkey)\n",
    "        print(\"a2\", subvalue)\n",
    "        if subkey == 'verified':\n",
    "            print(\"ff\")"
   ]
  },
  {
   "cell_type": "code",
   "execution_count": null,
   "metadata": {},
   "outputs": [],
   "source": []
  }
 ],
 "metadata": {
  "kernelspec": {
   "display_name": "myenv",
   "language": "python",
   "name": "python3"
  },
  "language_info": {
   "codemirror_mode": {
    "name": "ipython",
    "version": 3
   },
   "file_extension": ".py",
   "mimetype": "text/x-python",
   "name": "python",
   "nbconvert_exporter": "python",
   "pygments_lexer": "ipython3",
   "version": "3.8.0"
  }
 },
 "nbformat": 4,
 "nbformat_minor": 2
}
